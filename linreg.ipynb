{
 "cells": [
  {
   "cell_type": "code",
   "execution_count": 3,
   "id": "6ec0f8f3-87ed-4656-9c8e-337dd60c7c67",
   "metadata": {},
   "outputs": [
    {
     "name": "stdout",
     "output_type": "stream",
     "text": [
      "epoch 1, loss 0.034166\n",
      "epoch 2, loss 0.000111\n",
      "epoch 3, loss 0.000046\n",
      "w的误差: tensor([ 0.0001, -0.0005], grad_fn=<SubBackward0>)\n",
      "b的误差: tensor([0.0005], grad_fn=<RsubBackward1>)\n"
     ]
    }
   ],
   "source": [
    "%matplotlib inline\n",
    "import random\n",
    "import torch\n",
    "from d2l import torch as d2l\n",
    "\n",
    "# 构造数据\n",
    "def synthetic_data(w, b, number_examples):\n",
    "    X = torch.normal(0, 1, (number_examples, len(w)))\n",
    "    y = torch.matmul(X, w) + b\n",
    "    y += torch.normal(0, 0.01, y.shape)\n",
    "    return X, y.reshape(-1, 1)\n",
    "\n",
    "# 打乱数据并取小批量 \n",
    "def data_iter(batch_size, features, labels):\n",
    "    num_examples = len(features)\n",
    "    indices = list(range(num_examples))\n",
    "    random.shuffle(indices)\n",
    "    \n",
    "    for i in range(0, num_examples, batch_size):\n",
    "        batch_indices = torch.tensor(indices[i:min(i + batch_size, num_examples)])\n",
    "        yield features[batch_indices], labels[batch_indices]\n",
    "\n",
    "# 线性回归\n",
    "def linreg(X, w, b): \n",
    "    return torch.matmul(X, w) + b\n",
    "\n",
    "# 平方损失\n",
    "def squared_loss(y_hat, y): \n",
    "    return (y_hat - y.reshape(y_hat.shape)) ** 2 / 2\n",
    "\n",
    "# 小批量随机梯度下降\n",
    "def sgd(params, lr, batch_size): \n",
    "    with torch.no_grad():\n",
    "        for param in params:\n",
    "            param -= lr * param.grad / batch_size\n",
    "            param.grad.zero_()\n",
    "\n",
    "# 真实参数\n",
    "true_w = torch.tensor([2, -3.4]) \n",
    "true_b = 4.2\n",
    "features, labels = synthetic_data(true_w, true_b, 1000)\n",
    "batch_size = 10\n",
    "\n",
    "# 模型参数\n",
    "w = torch.zeros(2,1, requires_grad = True)\n",
    "b = torch.zeros(1, requires_grad = True)\n",
    "\n",
    "lr = 0.03 # 学习率\n",
    "num_epochs = 3 # 训练轮数\n",
    "net = linreg # 采用的网络\n",
    "loss = squared_loss # 采用的损失函数\n",
    "\n",
    "# 训练\n",
    "for epoch in range(num_epochs):\n",
    "    for X, y in data_iter(batch_size, features, labels):\n",
    "        l = loss(net(X, w, b), y)\n",
    "        l.sum().backward()\n",
    "        sgd([w, b], lr, batch_size)\n",
    "        \n",
    "    with torch.no_grad():\n",
    "        train_l = loss(net(features, w, b), labels)\n",
    "        print(f'epoch {epoch + 1}, loss {float(train_l.mean()):f}')\n",
    "\n",
    "print(\"w的误差:\", true_w - w.reshape(true_w.shape))\n",
    "print(\"b的误差:\", true_b - b)"
   ]
  },
  {
   "cell_type": "code",
   "execution_count": null,
   "id": "17632749-9b92-4c0e-b2f3-b0e72f5e9a36",
   "metadata": {},
   "outputs": [],
   "source": []
  }
 ],
 "metadata": {
  "kernelspec": {
   "display_name": "Python 3 (ipykernel)",
   "language": "python",
   "name": "python3"
  },
  "language_info": {
   "codemirror_mode": {
    "name": "ipython",
    "version": 3
   },
   "file_extension": ".py",
   "mimetype": "text/x-python",
   "name": "python",
   "nbconvert_exporter": "python",
   "pygments_lexer": "ipython3",
   "version": "3.11.9"
  }
 },
 "nbformat": 4,
 "nbformat_minor": 5
}
